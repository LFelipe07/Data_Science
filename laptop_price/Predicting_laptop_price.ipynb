{
 "cells": [
  {
   "cell_type": "markdown",
   "id": "f9f45663",
   "metadata": {},
   "source": [
    "## Previsão de Preço de Laptop / Laptop Price Forecast\n",
    "\n",
    "**Objetivo**: Seu objetivo, como Cientista de Dados da Amazon, é Desenvolver um Sistema que possa prever um preço provisório de um laptop, com base na configuração desejada pelo usuário. Isso servirá como um Balisador para definição de quais configurações devem ser priorizadas na escolha do Laptop por parte do Cliente.\n",
    "\n",
    "---------------------------------------------------------------------------\n",
    "**Objective**: your objective, as Amazon Data Scientist, is to develop a provisional system to predict the of a laptop, based on the configuration desired by the user. This will serve as a Beacon for defining which settings should be prioritized when choosing the Laptop by the Customer."
   ]
  },
  {
   "cell_type": "markdown",
   "id": "2a2d69b0",
   "metadata": {},
   "source": [
    "## Análise exploratória de dados / Exploratory data analysis"
   ]
  },
  {
   "cell_type": "markdown",
   "id": "4a4a5329",
   "metadata": {},
   "source": [
    "### Colunas do Dataset / Dataset Columns"
   ]
  },
  {
   "cell_type": "code",
   "execution_count": null,
   "id": "46bdf555",
   "metadata": {},
   "outputs": [],
   "source": [
    "# Importando as Bibliotecas\n",
    "# Importing the Libraries\n",
    "import pandas as pd\n",
    "import numpy as np\n",
    "from sklearn.model_selection import train_test_split\n",
    "from sklearn.compose import ColumnTransformer\n",
    "from sklearn.pipeline import Pipeline\n",
    "from sklearn.preprocessing import OneHotEncoder\n",
    "from sklearn.metrics import r2_score,mean_absolute_error\n",
    "from sklearn.ensemble import RandomForestRegressor"
   ]
  },
  {
   "cell_type": "markdown",
   "id": "8c3d42e1",
   "metadata": {},
   "source": [
    "**Company**: Fabricante ou marca / brand (Apple, HP, lenovo, Asus)\n",
    "\n",
    "---------------------------------------------------------------------------\n",
    "**TypeName**: Tipo laptop / Laptop Type (Ultrabook, Mackbook, 2 in 1 convertible, notebook)\n",
    "\n",
    "---------------------------------------------------------------------------\n",
    "**Ram**: Memória RAM / RAM memory (4gb, 8gb, 16gb, 32gb)\n",
    "\n",
    "---------------------------------------------------------------------------\n",
    "**Weight**: Peso (Kg)\n",
    "\n",
    "---------------------------------------------------------------------------\n",
    "**Touchscreen**: Se possui / If it owns (Sim/Não / Yes/No)\n",
    "\n",
    "---------------------------------------------------------------------------\n",
    "**Price**: Preço (Em Reais(Brazilian currency))\n",
    "\n",
    "---------------------------------------------------------------------------\n",
    "**Ips**: Tecnologia de redes / Network technology (Sim/Não / Yes/No)\n",
    "\n",
    "---------------------------------------------------------------------------\n",
    "**ppi**: Pixels por polegadas / Pixels per inch (220) \n",
    "\n",
    "---------------------------------------------------------------------------\n",
    "**Cpu_brand** Fabricante ou marca do processador / processor brand (Intel I7, Intel I5,  Other Intel Processor)\n",
    "\n",
    "---------------------------------------------------------------------------\n",
    "**HDD**: HD gigabyte  (500GB)\n",
    "\n",
    "---------------------------------------------------------------------------\n",
    "**SSD**: SSD megabyte  (256GB)\n",
    "\n",
    "---------------------------------------------------------------------------\n",
    "**Gpu_brand**: Marca da placa de video / Video Card brand (Nvidia)\n",
    "\n",
    "---------------------------------------------------------------------------\n",
    "**Os**: Sistema Operacional / Operational System ( windows, Others/No OS/Linux, Mac)\n"
   ]
  },
  {
   "cell_type": "code",
   "execution_count": null,
   "id": "d1e49b9c",
   "metadata": {},
   "outputs": [],
   "source": [
    "# Instalação do pacote de relatório automatizado para analise de dados\n",
    "# Instaling the automated reporting package for data analysis\n",
    "!pip install dataprep"
   ]
  },
  {
   "cell_type": "code",
   "execution_count": null,
   "id": "553de8eb",
   "metadata": {
    "scrolled": false
   },
   "outputs": [],
   "source": [
    "# Conectando com os dados\n",
    "# Data Connecting \n",
    "df = pd.read_csv('data.csv', delimiter=';')\n",
    "df"
   ]
  },
  {
   "cell_type": "code",
   "execution_count": null,
   "id": "0f342d7f",
   "metadata": {
    "scrolled": false
   },
   "outputs": [],
   "source": [
    "# Relatório Automatizado\n",
    "# Automated Report\n",
    "from dataprep.eda import create_report\n",
    "create_report(df)"
   ]
  },
  {
   "cell_type": "markdown",
   "id": "78a16e6c",
   "metadata": {},
   "source": [
    "## Pré-Processamento dos Dados / Data pre-processing"
   ]
  },
  {
   "cell_type": "code",
   "execution_count": null,
   "id": "61586fc9",
   "metadata": {},
   "outputs": [],
   "source": [
    "# Variáveis explicativas\n",
    "# Explanatory variables\n",
    "X = df.drop(columns=['Price'])"
   ]
  },
  {
   "cell_type": "code",
   "execution_count": null,
   "id": "2e5a6d11",
   "metadata": {},
   "outputs": [],
   "source": [
    "# Classe / O que queremos prever\n",
    "# Target / What we want to predict\n",
    "y = np.log(df['Price'])"
   ]
  },
  {
   "cell_type": "markdown",
   "id": "423c86e3",
   "metadata": {},
   "source": [
    "### Alguns testes com o test_size e a random state para ver qual se sai melhor com o meu modelo\n",
    "### Some tests with test_size and random state to see which one works best with my model\n",
    "\n",
    "\n",
    "- R2 score 0.9091915379824\n",
    "- MAE 0.15052603283795518\n",
    " - test_size=0.22,random_state=7\n",
    " ---------------------------------------------\n",
    "- R2 score 0.9145226769778227\n",
    "- MAE 0.14801615001618848\n",
    " - test_size=0.21,random_state=7\n",
    " -------------------------------------------\n",
    "- R2 score 0.9156235861402156\n",
    "- MAE 0.14764715063561304\n",
    " - test_size = 0.20, random_state = 7\n",
    " ---------------------------------------------\n",
    "- R2 score 0.9168877460053753\n",
    "- MAE 0.1439709364900349              - O Ganhador / The Winner\n",
    " - test_size=0.19,random_state=7\n",
    "--------------------------------------------\n",
    "- R2 score 0.9149143673731063\n",
    "- MAE 0.1466489470816401\n",
    " - test_size=0.18,random_state=7\n",
    " --------------------------------------------\n",
    "- R2 score 0.9123834335574939\n",
    "- MAE 0.14691635148390247\n",
    " - test_size=0.17,random_state=7) \n",
    " --------------------------------------------\n",
    "- R2 score 0.9108143414466527\n",
    "- MAE MAE 0.14904559077796425\n",
    " - test_size=0.16,random_state=7)-"
   ]
  },
  {
   "cell_type": "code",
   "execution_count": null,
   "id": "b36dec0d",
   "metadata": {},
   "outputs": [],
   "source": [
    "# Separação dos dados de treinamento e teste do algoritimo (maquina preditiva)\n",
    "# Separation of training and testing data from the algorithm (predictive machine)\n",
    "X_train, X_test, y_train, y_test = train_test_split(X,y,test_size=0.19,random_state=7)"
   ]
  },
  {
   "cell_type": "code",
   "execution_count": null,
   "id": "858af180",
   "metadata": {},
   "outputs": [],
   "source": [
    "# Informação do Dataframe\n",
    "# Dataframe information\n",
    "df.info()"
   ]
  },
  {
   "cell_type": "code",
   "execution_count": null,
   "id": "aa966e44",
   "metadata": {},
   "outputs": [],
   "source": [
    "# Transformando variáveis object em numéricas\n",
    "# Transforming object variables to numeric variables\n",
    "step1 = ColumnTransformer(transformers=[\n",
    "        ('col_tnf', OneHotEncoder(handle_unknown='ignore', sparse=False),[0,1,7,10,11])],\n",
    "         remainder='passthrough')"
   ]
  },
  {
   "cell_type": "markdown",
   "id": "2c26f2c8",
   "metadata": {},
   "source": [
    "## Criação da maquina preditiva / Creation of predctive machine"
   ]
  },
  {
   "cell_type": "markdown",
   "id": "35e09a02",
   "metadata": {},
   "source": [
    "#### Fazendo testes a/b para melhorar meu modelo\n",
    "    - Começando com modelo sem os hiperparametros\n",
    "---------------------------------------------------------------------------------------------------------------------\n",
    "#### Doing a/b tests to improve my model\n",
    "    - Starting with model without the hyperparameters"
   ]
  },
  {
   "cell_type": "code",
   "execution_count": null,
   "id": "88ec06d6",
   "metadata": {},
   "outputs": [],
   "source": [
    "# Criando a Máquina Preditiva com  algoritimo regressor\n",
    "# Creating the Predictive Machine with a regressor algorithm\n",
    "step2 = RandomForestRegressor()"
   ]
  },
  {
   "cell_type": "markdown",
   "id": "1c650aa5",
   "metadata": {},
   "source": [
    "## Pipeline: Automatizando Processamento de Dados e Machine Learning"
   ]
  },
  {
   "cell_type": "code",
   "execution_count": null,
   "id": "efe48fa9",
   "metadata": {},
   "outputs": [],
   "source": [
    "# Automatizando o pré-processamento com a criação da maquina preditiva em uma etapa\n",
    "# automating pre-processing creating the predictive machine in one step \n",
    "pipe= Pipeline([\n",
    "\n",
    "# Processamento de Dados: Transformação das variáveis object em númericas\n",
    "# Data processin: Variable transforming, object to numeric\n",
    "('step1',step1), \n",
    "\n",
    "# Criação da maquina preditiva com Machine Learning (Algoritimo RandomForest)\n",
    "# Creating the predictive machine with machine learning(RandomForest algorithm)\n",
    "('step2',step2)\n",
    "\n",
    "])"
   ]
  },
  {
   "cell_type": "code",
   "execution_count": null,
   "id": "b46f68ea",
   "metadata": {},
   "outputs": [],
   "source": [
    "# Treinamento com os dados de treino\n",
    "# Training with training data\n",
    "pipe.fit(X_train,y_train)"
   ]
  },
  {
   "cell_type": "code",
   "execution_count": null,
   "id": "bbe44b1b",
   "metadata": {},
   "outputs": [],
   "source": [
    "# Novas Predições com os Dados de teste\n",
    "# New predictions with test data\n",
    "y_pred = pipe.predict(X_test)"
   ]
  },
  {
   "cell_type": "markdown",
   "id": "3f4d95e5",
   "metadata": {},
   "source": [
    "##  Avaliação da Máquina Preditiva / Predictive Machine Assessment"
   ]
  },
  {
   "cell_type": "code",
   "execution_count": null,
   "id": "644f00ab",
   "metadata": {},
   "outputs": [],
   "source": [
    "# Utilizando  a métrica R2\n",
    "# Using the R2 metric\n",
    "print('R2 score',r2_score(y_test,y_pred))"
   ]
  },
  {
   "cell_type": "code",
   "execution_count": null,
   "id": "de100fb3",
   "metadata": {},
   "outputs": [],
   "source": [
    "# Utilizando a métrica MAE\n",
    "# Using the MAE metric\n",
    "print('MAE',mean_absolute_error(y_test,y_pred))"
   ]
  },
  {
   "cell_type": "markdown",
   "id": "c5f10c1a",
   "metadata": {},
   "source": [
    "- Criando um novo pipeline para descobrir os melhores hiperparametros, com o GridSearchCV\n",
    "\n",
    "- Creating a new pipeline to search for the best hiperparameters, with GridSearchCV"
   ]
  },
  {
   "cell_type": "code",
   "execution_count": null,
   "id": "869101b0",
   "metadata": {},
   "outputs": [],
   "source": [
    "sorted(pipe.get_params().keys())"
   ]
  },
  {
   "cell_type": "code",
   "execution_count": null,
   "id": "baf03f36",
   "metadata": {},
   "outputs": [],
   "source": [
    "from sklearn.model_selection import GridSearchCV"
   ]
  },
  {
   "cell_type": "code",
   "execution_count": null,
   "id": "9d8e8b06",
   "metadata": {},
   "outputs": [],
   "source": [
    "# n_estimators: Número de árvores que serao criadas na floresta\n",
    "# n_estimators: Number of the trees that will be created in the forest\n",
    "n_estimators=[180, 190, 200, 210]\n",
    "\n",
    "# random_state: Cria semente aleatorias para replicar os resultados\n",
    "# random_state: Create a random seed to replicate the results\n",
    "random_state=[5, 6, 7, 8]\n",
    "\n",
    "# max_depth: Profundidade máxima da arvore\n",
    "# max_depth: The max tree depth\n",
    "max_depth=[15, 20, 25, 30]\n",
    "\n",
    "# min_sample_split: Número de amostras minimas para considerar um nó para a divisão\n",
    "# min_sample_split: Minimum sample number to consider a node for the division\n",
    "min_samples_split = [2, 5, 10, 15]\n",
    "\n",
    "# min_sample_leaf: Número de amostras minimas no nivel folha\n",
    "# min_sample_leaf: Minimum number of samples at the sheet level\n",
    "min_samples_leaf = [1, 5, 10, 15]\n",
    "\n",
    "# bootstrap: Se as amostras de bootstrap são usadas ao construir árvores. Se False, todo o conjunto de dados é usado para construir cada árvore.\n",
    "# bootstrap: Whether bootstrap samples are used when building trees. If False, the whole dataset is used to build each tree.\n",
    "bootstrap = ['True', 'False']"
   ]
  },
  {
   "cell_type": "code",
   "execution_count": null,
   "id": "74ab0d4f",
   "metadata": {},
   "outputs": [],
   "source": [
    "# Definindo um dicionarios para receber os parametros e valores\n",
    "# Defining a dictionary to receive parameters and values\n",
    "grid_param = dict(step2__n_estimators=n_estimators,\n",
    "                  step2__random_state=random_state,\n",
    "                  step2__max_depth=max_depth,\n",
    "                  step2__min_samples_split=min_samples_split,\n",
    "                  step2__min_samples_leaf=min_samples_leaf,\n",
    "                  step2__bootstrap=bootstrap\n",
    "                  )\n",
    "grid_param"
   ]
  },
  {
   "cell_type": "code",
   "execution_count": null,
   "id": "87cb3762",
   "metadata": {},
   "outputs": [],
   "source": [
    "grid = GridSearchCV(pipe, grid_param)"
   ]
  },
  {
   "cell_type": "code",
   "execution_count": null,
   "id": "64f4df64",
   "metadata": {},
   "outputs": [],
   "source": [
    "grid.fit(X_train, y_train)"
   ]
  },
  {
   "cell_type": "code",
   "execution_count": null,
   "id": "a09dc1e8",
   "metadata": {},
   "outputs": [],
   "source": [
    "grid.cv_results_"
   ]
  },
  {
   "cell_type": "code",
   "execution_count": null,
   "id": "582eded5",
   "metadata": {},
   "outputs": [],
   "source": [
    "grid.best_params_"
   ]
  },
  {
   "cell_type": "code",
   "execution_count": null,
   "id": "6719ec62",
   "metadata": {},
   "outputs": [],
   "source": [
    "# Criando a Máquina Preditiva com  algoritimo regressor\n",
    "# Creating a predictive machine with regressor algorithm\n",
    "step2 = RandomForestRegressor(bootstrap='True',\n",
    "                              max_depth=15,\n",
    "                              min_samples_leaf=1,\n",
    "                              min_samples_split=2,\n",
    "                              n_estimators=200,\n",
    "                              random_state=5\n",
    "                             )"
   ]
  },
  {
   "cell_type": "code",
   "execution_count": null,
   "id": "09855d8c",
   "metadata": {},
   "outputs": [],
   "source": [
    "# Automatizando o pré-processamento com a criação da maquina preditiva em uma etapa\n",
    "# Automating pre-processing creating the predictive machine in one step \n",
    "pipe= Pipeline([\n",
    "\n",
    "# Processamento de Dados: Transformação das variáveis object em númericas\n",
    "# Data processin: Variable transforming, object to numeric\n",
    "('step1',step1), \n",
    "\n",
    "# Criação da MP com Machine Learning (Algoritimo RF)\n",
    "# Creating the predictive machine with machine learning (RandomForest algorithm)\n",
    "('step2',step2)\n",
    "\n",
    "])"
   ]
  },
  {
   "cell_type": "code",
   "execution_count": null,
   "id": "f5094bc6",
   "metadata": {},
   "outputs": [],
   "source": [
    "# Treinamento com os dados de treino\n",
    "# Training with training data\n",
    "pipe.fit(X_train,y_train)"
   ]
  },
  {
   "cell_type": "code",
   "execution_count": null,
   "id": "57ffd09d",
   "metadata": {},
   "outputs": [],
   "source": [
    "# Novas Predições com os Dados de teste\n",
    "# New predictions with data test\n",
    "y_pred = pipe.predict(X_test)"
   ]
  },
  {
   "cell_type": "code",
   "execution_count": null,
   "id": "735fba0c",
   "metadata": {},
   "outputs": [],
   "source": [
    "print('MAE',mean_absolute_error(y_test,y_pred))"
   ]
  },
  {
   "cell_type": "code",
   "execution_count": null,
   "id": "887b02d6",
   "metadata": {},
   "outputs": [],
   "source": [
    "print('R2 score',r2_score(y_test,y_pred))"
   ]
  },
  {
   "cell_type": "code",
   "execution_count": null,
   "id": "394149fc",
   "metadata": {},
   "outputs": [],
   "source": [
    "# Exportando dados para Fase de implementação\n",
    "# Exporting Data for Implementation Phase\n",
    "df.to_csv(\"data_mp.csv\", index=False)"
   ]
  },
  {
   "cell_type": "code",
   "execution_count": null,
   "id": "73006bc3",
   "metadata": {},
   "outputs": [],
   "source": [
    "# Salvando a maquina preditiva para implementaçãp (deploy)\n",
    "# Saving the predictive machine for deployment (deploy)\n",
    "import pickle\n",
    "df.to_csv(\"data_mp.csv\", index=False)\n",
    "pickle.dump(pipe,open('MP.pkl','wb'))"
   ]
  }
 ],
 "metadata": {
  "kernelspec": {
   "display_name": "Python 3 (ipykernel)",
   "language": "python",
   "name": "python3"
  },
  "language_info": {
   "codemirror_mode": {
    "name": "ipython",
    "version": 3
   },
   "file_extension": ".py",
   "mimetype": "text/x-python",
   "name": "python",
   "nbconvert_exporter": "python",
   "pygments_lexer": "ipython3",
   "version": "3.9.12"
  }
 },
 "nbformat": 4,
 "nbformat_minor": 5
}
